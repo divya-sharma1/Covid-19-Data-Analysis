{
 "cells": [
  {
   "cell_type": "markdown",
   "metadata": {},
   "source": [
    "### Import Packages"
   ]
  },
  {
   "cell_type": "code",
   "execution_count": 39,
   "metadata": {},
   "outputs": [],
   "source": [
    "import pandas as pd\n",
    "import numpy as np\n",
    "import datetime"
   ]
  },
  {
   "cell_type": "markdown",
   "metadata": {},
   "source": [
    "### Import Raw Data from URL"
   ]
  },
  {
   "cell_type": "code",
   "execution_count": 3,
   "metadata": {},
   "outputs": [],
   "source": [
    "url = 'https://raw.githubusercontent.com/CSSEGISandData/COVID-19/master/csse_covid_19_data/csse_covid_19_time_series/time_series_covid19_confirmed_global.csv'\n",
    "data = pd.read_csv(url)"
   ]
  },
  {
   "cell_type": "markdown",
   "metadata": {},
   "source": [
    "### Analysing specific data\n"
   ]
  },
  {
   "cell_type": "code",
   "execution_count": 6,
   "metadata": {},
   "outputs": [
    {
     "data": {
      "text/plain": [
       "Index(['Province/State', 'Country/Region', 'Lat', 'Long', '1/22/20', '1/23/20',\n",
       "       '1/24/20', '1/25/20', '1/26/20', '1/27/20',\n",
       "       ...\n",
       "       '7/13/20', '7/14/20', '7/15/20', '7/16/20', '7/17/20', '7/18/20',\n",
       "       '7/19/20', '7/20/20', '7/21/20', '7/22/20'],\n",
       "      dtype='object', length=187)"
      ]
     },
     "execution_count": 6,
     "metadata": {},
     "output_type": "execute_result"
    }
   ],
   "source": [
    "data.columns"
   ]
  },
  {
   "cell_type": "code",
   "execution_count": 7,
   "metadata": {},
   "outputs": [
    {
     "data": {
      "text/html": [
       "<div>\n",
       "<style scoped>\n",
       "    .dataframe tbody tr th:only-of-type {\n",
       "        vertical-align: middle;\n",
       "    }\n",
       "\n",
       "    .dataframe tbody tr th {\n",
       "        vertical-align: top;\n",
       "    }\n",
       "\n",
       "    .dataframe thead th {\n",
       "        text-align: right;\n",
       "    }\n",
       "</style>\n",
       "<table border=\"1\" class=\"dataframe\">\n",
       "  <thead>\n",
       "    <tr style=\"text-align: right;\">\n",
       "      <th></th>\n",
       "      <th>Province/State</th>\n",
       "      <th>Country/Region</th>\n",
       "      <th>Lat</th>\n",
       "      <th>Long</th>\n",
       "      <th>1/22/20</th>\n",
       "      <th>1/23/20</th>\n",
       "      <th>1/24/20</th>\n",
       "      <th>1/25/20</th>\n",
       "      <th>1/26/20</th>\n",
       "      <th>1/27/20</th>\n",
       "      <th>...</th>\n",
       "      <th>7/13/20</th>\n",
       "      <th>7/14/20</th>\n",
       "      <th>7/15/20</th>\n",
       "      <th>7/16/20</th>\n",
       "      <th>7/17/20</th>\n",
       "      <th>7/18/20</th>\n",
       "      <th>7/19/20</th>\n",
       "      <th>7/20/20</th>\n",
       "      <th>7/21/20</th>\n",
       "      <th>7/22/20</th>\n",
       "    </tr>\n",
       "  </thead>\n",
       "  <tbody>\n",
       "    <tr>\n",
       "      <td>0</td>\n",
       "      <td>NaN</td>\n",
       "      <td>Afghanistan</td>\n",
       "      <td>33.93911</td>\n",
       "      <td>67.709953</td>\n",
       "      <td>0</td>\n",
       "      <td>0</td>\n",
       "      <td>0</td>\n",
       "      <td>0</td>\n",
       "      <td>0</td>\n",
       "      <td>0</td>\n",
       "      <td>...</td>\n",
       "      <td>34455</td>\n",
       "      <td>34740</td>\n",
       "      <td>34994</td>\n",
       "      <td>35070</td>\n",
       "      <td>35229</td>\n",
       "      <td>35301</td>\n",
       "      <td>35475</td>\n",
       "      <td>35526</td>\n",
       "      <td>35615</td>\n",
       "      <td>35727</td>\n",
       "    </tr>\n",
       "    <tr>\n",
       "      <td>1</td>\n",
       "      <td>NaN</td>\n",
       "      <td>Albania</td>\n",
       "      <td>41.15330</td>\n",
       "      <td>20.168300</td>\n",
       "      <td>0</td>\n",
       "      <td>0</td>\n",
       "      <td>0</td>\n",
       "      <td>0</td>\n",
       "      <td>0</td>\n",
       "      <td>0</td>\n",
       "      <td>...</td>\n",
       "      <td>3571</td>\n",
       "      <td>3667</td>\n",
       "      <td>3752</td>\n",
       "      <td>3851</td>\n",
       "      <td>3906</td>\n",
       "      <td>4008</td>\n",
       "      <td>4090</td>\n",
       "      <td>4171</td>\n",
       "      <td>4290</td>\n",
       "      <td>4358</td>\n",
       "    </tr>\n",
       "    <tr>\n",
       "      <td>2</td>\n",
       "      <td>NaN</td>\n",
       "      <td>Algeria</td>\n",
       "      <td>28.03390</td>\n",
       "      <td>1.659600</td>\n",
       "      <td>0</td>\n",
       "      <td>0</td>\n",
       "      <td>0</td>\n",
       "      <td>0</td>\n",
       "      <td>0</td>\n",
       "      <td>0</td>\n",
       "      <td>...</td>\n",
       "      <td>19689</td>\n",
       "      <td>20216</td>\n",
       "      <td>20770</td>\n",
       "      <td>21355</td>\n",
       "      <td>21948</td>\n",
       "      <td>22549</td>\n",
       "      <td>23084</td>\n",
       "      <td>23691</td>\n",
       "      <td>24278</td>\n",
       "      <td>24872</td>\n",
       "    </tr>\n",
       "    <tr>\n",
       "      <td>3</td>\n",
       "      <td>NaN</td>\n",
       "      <td>Andorra</td>\n",
       "      <td>42.50630</td>\n",
       "      <td>1.521800</td>\n",
       "      <td>0</td>\n",
       "      <td>0</td>\n",
       "      <td>0</td>\n",
       "      <td>0</td>\n",
       "      <td>0</td>\n",
       "      <td>0</td>\n",
       "      <td>...</td>\n",
       "      <td>858</td>\n",
       "      <td>861</td>\n",
       "      <td>862</td>\n",
       "      <td>877</td>\n",
       "      <td>880</td>\n",
       "      <td>880</td>\n",
       "      <td>880</td>\n",
       "      <td>884</td>\n",
       "      <td>884</td>\n",
       "      <td>889</td>\n",
       "    </tr>\n",
       "    <tr>\n",
       "      <td>4</td>\n",
       "      <td>NaN</td>\n",
       "      <td>Angola</td>\n",
       "      <td>-11.20270</td>\n",
       "      <td>17.873900</td>\n",
       "      <td>0</td>\n",
       "      <td>0</td>\n",
       "      <td>0</td>\n",
       "      <td>0</td>\n",
       "      <td>0</td>\n",
       "      <td>0</td>\n",
       "      <td>...</td>\n",
       "      <td>525</td>\n",
       "      <td>541</td>\n",
       "      <td>576</td>\n",
       "      <td>607</td>\n",
       "      <td>638</td>\n",
       "      <td>687</td>\n",
       "      <td>705</td>\n",
       "      <td>749</td>\n",
       "      <td>779</td>\n",
       "      <td>812</td>\n",
       "    </tr>\n",
       "  </tbody>\n",
       "</table>\n",
       "<p>5 rows × 187 columns</p>\n",
       "</div>"
      ],
      "text/plain": [
       "  Province/State Country/Region       Lat       Long  1/22/20  1/23/20  \\\n",
       "0            NaN    Afghanistan  33.93911  67.709953        0        0   \n",
       "1            NaN        Albania  41.15330  20.168300        0        0   \n",
       "2            NaN        Algeria  28.03390   1.659600        0        0   \n",
       "3            NaN        Andorra  42.50630   1.521800        0        0   \n",
       "4            NaN         Angola -11.20270  17.873900        0        0   \n",
       "\n",
       "   1/24/20  1/25/20  1/26/20  1/27/20  ...  7/13/20  7/14/20  7/15/20  \\\n",
       "0        0        0        0        0  ...    34455    34740    34994   \n",
       "1        0        0        0        0  ...     3571     3667     3752   \n",
       "2        0        0        0        0  ...    19689    20216    20770   \n",
       "3        0        0        0        0  ...      858      861      862   \n",
       "4        0        0        0        0  ...      525      541      576   \n",
       "\n",
       "   7/16/20  7/17/20  7/18/20  7/19/20  7/20/20  7/21/20  7/22/20  \n",
       "0    35070    35229    35301    35475    35526    35615    35727  \n",
       "1     3851     3906     4008     4090     4171     4290     4358  \n",
       "2    21355    21948    22549    23084    23691    24278    24872  \n",
       "3      877      880      880      880      884      884      889  \n",
       "4      607      638      687      705      749      779      812  \n",
       "\n",
       "[5 rows x 187 columns]"
      ]
     },
     "execution_count": 7,
     "metadata": {},
     "output_type": "execute_result"
    }
   ],
   "source": [
    "data.head()"
   ]
  },
  {
   "cell_type": "markdown",
   "metadata": {},
   "source": [
    "#### Check the total number of rows and columns"
   ]
  },
  {
   "cell_type": "code",
   "execution_count": 8,
   "metadata": {},
   "outputs": [
    {
     "data": {
      "text/plain": [
       "(266, 187)"
      ]
     },
     "execution_count": 8,
     "metadata": {},
     "output_type": "execute_result"
    }
   ],
   "source": [
    "data.shape"
   ]
  },
  {
   "cell_type": "markdown",
   "metadata": {},
   "source": [
    ">There are total 266 rows and 187 columns"
   ]
  },
  {
   "cell_type": "markdown",
   "metadata": {},
   "source": [
    "### Rename the columns"
   ]
  },
  {
   "cell_type": "code",
   "execution_count": 20,
   "metadata": {},
   "outputs": [],
   "source": [
    "covid_data = data.rename(\n",
    "        columns = {'Province/State':'subregion'\n",
    "                   ,'Country/Region':'country'\n",
    "                   ,'Lat':'lat'\n",
    "                   ,'Long':'long'\n",
    "                   }\n",
    "        )\n"
   ]
  },
  {
   "cell_type": "code",
   "execution_count": 21,
   "metadata": {},
   "outputs": [
    {
     "name": "stdout",
     "output_type": "stream",
     "text": [
      "    subregion                country        lat       long  1/22/20  1/23/20  \\\n",
      "0         NaN            Afghanistan  33.939110  67.709953        0        0   \n",
      "1         NaN                Albania  41.153300  20.168300        0        0   \n",
      "2         NaN                Algeria  28.033900   1.659600        0        0   \n",
      "3         NaN                Andorra  42.506300   1.521800        0        0   \n",
      "4         NaN                 Angola -11.202700  17.873900        0        0   \n",
      "..        ...                    ...        ...        ...      ...      ...   \n",
      "261       NaN  Sao Tome and Principe   0.186400   6.613100        0        0   \n",
      "262       NaN                  Yemen  15.552727  48.516388        0        0   \n",
      "263       NaN                Comoros -11.645500  43.333300        0        0   \n",
      "264       NaN             Tajikistan  38.861000  71.276100        0        0   \n",
      "265       NaN                Lesotho -29.610000  28.233600        0        0   \n",
      "\n",
      "     1/24/20  1/25/20  1/26/20  1/27/20  ...  7/13/20  7/14/20  7/15/20  \\\n",
      "0          0        0        0        0  ...    34455    34740    34994   \n",
      "1          0        0        0        0  ...     3571     3667     3752   \n",
      "2          0        0        0        0  ...    19689    20216    20770   \n",
      "3          0        0        0        0  ...      858      861      862   \n",
      "4          0        0        0        0  ...      525      541      576   \n",
      "..       ...      ...      ...      ...  ...      ...      ...      ...   \n",
      "261        0        0        0        0  ...      732      732      737   \n",
      "262        0        0        0        0  ...     1498     1516     1526   \n",
      "263        0        0        0        0  ...      317      321      321   \n",
      "264        0        0        0        0  ...     6596     6643     6695   \n",
      "265        0        0        0        0  ...      245      256      256   \n",
      "\n",
      "     7/16/20  7/17/20  7/18/20  7/19/20  7/20/20  7/21/20  7/22/20  \n",
      "0      35070    35229    35301    35475    35526    35615    35727  \n",
      "1       3851     3906     4008     4090     4171     4290     4358  \n",
      "2      21355    21948    22549    23084    23691    24278    24872  \n",
      "3        877      880      880      880      884      884      889  \n",
      "4        607      638      687      705      749      779      812  \n",
      "..       ...      ...      ...      ...      ...      ...      ...  \n",
      "261      740      741      743      746      746      746      747  \n",
      "262     1552     1576     1581     1606     1619     1629     1640  \n",
      "263      328      328      328      334      334      337      337  \n",
      "264     6741     6786     6834     6878     6921     6967     7015  \n",
      "265      256      311      359      359      359      359      359  \n",
      "\n",
      "[266 rows x 187 columns]\n"
     ]
    }
   ],
   "source": [
    "print(covid_data)"
   ]
  },
  {
   "cell_type": "markdown",
   "metadata": {},
   "source": [
    "### Reshaping the data "
   ]
  },
  {
   "cell_type": "markdown",
   "metadata": {},
   "source": [
    "The dates all exist as separate columns, which is not needed.\n",
    "\n",
    "For further analysis of the data, it is required that all the dates exist under a single  “date” column."
   ]
  },
  {
   "cell_type": "markdown",
   "metadata": {},
   "source": [
    ">Here I have used Pandas melt function. Pandas has two functions for transposing data, melt and pivot, but melt is used when we need to transform data from wide form to long form."
   ]
  },
  {
   "cell_type": "code",
   "execution_count": 22,
   "metadata": {},
   "outputs": [],
   "source": [
    "\n",
    "covid_data = (covid_data.melt(id_vars = ['country','subregion','lat','long']\n",
    "                 ,var_name = 'date_RAW'\n",
    "                 ,value_name = 'confirmed'\n",
    "                 )\n",
    ")\n"
   ]
  },
  {
   "cell_type": "markdown",
   "metadata": {},
   "source": [
    ">Two new variables are created: date_RAW and confirmed.\n",
    ">The first is a date field, and the second is the number of confirmed cases."
   ]
  },
  {
   "cell_type": "code",
   "execution_count": 23,
   "metadata": {},
   "outputs": [
    {
     "name": "stdout",
     "output_type": "stream",
     "text": [
      "                     country subregion        lat       long date_RAW  \\\n",
      "0                Afghanistan       NaN  33.939110  67.709953  1/22/20   \n",
      "1                    Albania       NaN  41.153300  20.168300  1/22/20   \n",
      "2                    Algeria       NaN  28.033900   1.659600  1/22/20   \n",
      "3                    Andorra       NaN  42.506300   1.521800  1/22/20   \n",
      "4                     Angola       NaN -11.202700  17.873900  1/22/20   \n",
      "...                      ...       ...        ...        ...      ...   \n",
      "48673  Sao Tome and Principe       NaN   0.186400   6.613100  7/22/20   \n",
      "48674                  Yemen       NaN  15.552727  48.516388  7/22/20   \n",
      "48675                Comoros       NaN -11.645500  43.333300  7/22/20   \n",
      "48676             Tajikistan       NaN  38.861000  71.276100  7/22/20   \n",
      "48677                Lesotho       NaN -29.610000  28.233600  7/22/20   \n",
      "\n",
      "       confirmed  \n",
      "0              0  \n",
      "1              0  \n",
      "2              0  \n",
      "3              0  \n",
      "4              0  \n",
      "...          ...  \n",
      "48673        747  \n",
      "48674       1640  \n",
      "48675        337  \n",
      "48676       7015  \n",
      "48677        359  \n",
      "\n",
      "[48678 rows x 6 columns]\n"
     ]
    }
   ],
   "source": [
    "print(covid_data)"
   ]
  },
  {
   "cell_type": "markdown",
   "metadata": {},
   "source": [
    ">The confirmed variable is the number of confirmed covid-19 cases, for a particular place, on a particular date."
   ]
  },
  {
   "cell_type": "markdown",
   "metadata": {},
   "source": [
    ">The date_RAW variable is a string-based date variable. This needs certain more further modification in order to convert the dates into proper date/time data. "
   ]
  },
  {
   "cell_type": "code",
   "execution_count": 24,
   "metadata": {},
   "outputs": [
    {
     "data": {
      "text/html": [
       "<div>\n",
       "<style scoped>\n",
       "    .dataframe tbody tr th:only-of-type {\n",
       "        vertical-align: middle;\n",
       "    }\n",
       "\n",
       "    .dataframe tbody tr th {\n",
       "        vertical-align: top;\n",
       "    }\n",
       "\n",
       "    .dataframe thead th {\n",
       "        text-align: right;\n",
       "    }\n",
       "</style>\n",
       "<table border=\"1\" class=\"dataframe\">\n",
       "  <thead>\n",
       "    <tr style=\"text-align: right;\">\n",
       "      <th></th>\n",
       "      <th>date_RAW</th>\n",
       "    </tr>\n",
       "  </thead>\n",
       "  <tbody>\n",
       "    <tr>\n",
       "      <td>0</td>\n",
       "      <td>1/22/20</td>\n",
       "    </tr>\n",
       "    <tr>\n",
       "      <td>1</td>\n",
       "      <td>1/22/20</td>\n",
       "    </tr>\n",
       "    <tr>\n",
       "      <td>2</td>\n",
       "      <td>1/22/20</td>\n",
       "    </tr>\n",
       "    <tr>\n",
       "      <td>3</td>\n",
       "      <td>1/22/20</td>\n",
       "    </tr>\n",
       "    <tr>\n",
       "      <td>4</td>\n",
       "      <td>1/22/20</td>\n",
       "    </tr>\n",
       "    <tr>\n",
       "      <td>...</td>\n",
       "      <td>...</td>\n",
       "    </tr>\n",
       "    <tr>\n",
       "      <td>48673</td>\n",
       "      <td>7/22/20</td>\n",
       "    </tr>\n",
       "    <tr>\n",
       "      <td>48674</td>\n",
       "      <td>7/22/20</td>\n",
       "    </tr>\n",
       "    <tr>\n",
       "      <td>48675</td>\n",
       "      <td>7/22/20</td>\n",
       "    </tr>\n",
       "    <tr>\n",
       "      <td>48676</td>\n",
       "      <td>7/22/20</td>\n",
       "    </tr>\n",
       "    <tr>\n",
       "      <td>48677</td>\n",
       "      <td>7/22/20</td>\n",
       "    </tr>\n",
       "  </tbody>\n",
       "</table>\n",
       "<p>48678 rows × 1 columns</p>\n",
       "</div>"
      ],
      "text/plain": [
       "      date_RAW\n",
       "0      1/22/20\n",
       "1      1/22/20\n",
       "2      1/22/20\n",
       "3      1/22/20\n",
       "4      1/22/20\n",
       "...        ...\n",
       "48673  7/22/20\n",
       "48674  7/22/20\n",
       "48675  7/22/20\n",
       "48676  7/22/20\n",
       "48677  7/22/20\n",
       "\n",
       "[48678 rows x 1 columns]"
      ]
     },
     "execution_count": 24,
     "metadata": {},
     "output_type": "execute_result"
    }
   ],
   "source": [
    "(covid_data\n",
    "    .filter(['date_RAW'])\n",
    ")"
   ]
  },
  {
   "cell_type": "markdown",
   "metadata": {},
   "source": [
    ">The dates are in a form : one-digit month, two-digit day, and a two-digit year.\n",
    "These need to be converted into proper datetime data."
   ]
  },
  {
   "cell_type": "code",
   "execution_count": 25,
   "metadata": {},
   "outputs": [
    {
     "data": {
      "text/html": [
       "<div>\n",
       "<style scoped>\n",
       "    .dataframe tbody tr th:only-of-type {\n",
       "        vertical-align: middle;\n",
       "    }\n",
       "\n",
       "    .dataframe tbody tr th {\n",
       "        vertical-align: top;\n",
       "    }\n",
       "\n",
       "    .dataframe thead th {\n",
       "        text-align: right;\n",
       "    }\n",
       "</style>\n",
       "<table border=\"1\" class=\"dataframe\">\n",
       "  <thead>\n",
       "    <tr style=\"text-align: right;\">\n",
       "      <th></th>\n",
       "      <th></th>\n",
       "      <th>confirmed</th>\n",
       "    </tr>\n",
       "    <tr>\n",
       "      <th>date</th>\n",
       "      <th>date_RAW</th>\n",
       "      <th></th>\n",
       "    </tr>\n",
       "  </thead>\n",
       "  <tbody>\n",
       "    <tr>\n",
       "      <td>2020-01-22</td>\n",
       "      <td>1/22/20</td>\n",
       "      <td>555</td>\n",
       "    </tr>\n",
       "    <tr>\n",
       "      <td>2020-01-23</td>\n",
       "      <td>1/23/20</td>\n",
       "      <td>654</td>\n",
       "    </tr>\n",
       "    <tr>\n",
       "      <td>2020-01-24</td>\n",
       "      <td>1/24/20</td>\n",
       "      <td>941</td>\n",
       "    </tr>\n",
       "    <tr>\n",
       "      <td>2020-01-25</td>\n",
       "      <td>1/25/20</td>\n",
       "      <td>1434</td>\n",
       "    </tr>\n",
       "    <tr>\n",
       "      <td>2020-01-26</td>\n",
       "      <td>1/26/20</td>\n",
       "      <td>2118</td>\n",
       "    </tr>\n",
       "    <tr>\n",
       "      <td>...</td>\n",
       "      <td>...</td>\n",
       "      <td>...</td>\n",
       "    </tr>\n",
       "    <tr>\n",
       "      <td>2020-07-18</td>\n",
       "      <td>7/18/20</td>\n",
       "      <td>14292942</td>\n",
       "    </tr>\n",
       "    <tr>\n",
       "      <td>2020-07-19</td>\n",
       "      <td>7/19/20</td>\n",
       "      <td>14507589</td>\n",
       "    </tr>\n",
       "    <tr>\n",
       "      <td>2020-07-20</td>\n",
       "      <td>7/20/20</td>\n",
       "      <td>14714367</td>\n",
       "    </tr>\n",
       "    <tr>\n",
       "      <td>2020-07-21</td>\n",
       "      <td>7/21/20</td>\n",
       "      <td>14947822</td>\n",
       "    </tr>\n",
       "    <tr>\n",
       "      <td>2020-07-22</td>\n",
       "      <td>7/22/20</td>\n",
       "      <td>15227535</td>\n",
       "    </tr>\n",
       "  </tbody>\n",
       "</table>\n",
       "<p>183 rows × 1 columns</p>\n",
       "</div>"
      ],
      "text/plain": [
       "                     confirmed\n",
       "date       date_RAW           \n",
       "2020-01-22 1/22/20         555\n",
       "2020-01-23 1/23/20         654\n",
       "2020-01-24 1/24/20         941\n",
       "2020-01-25 1/25/20        1434\n",
       "2020-01-26 1/26/20        2118\n",
       "...                        ...\n",
       "2020-07-18 7/18/20    14292942\n",
       "2020-07-19 7/19/20    14507589\n",
       "2020-07-20 7/20/20    14714367\n",
       "2020-07-21 7/21/20    14947822\n",
       "2020-07-22 7/22/20    15227535\n",
       "\n",
       "[183 rows x 1 columns]"
      ]
     },
     "execution_count": 25,
     "metadata": {},
     "output_type": "execute_result"
    }
   ],
   "source": [
    "# TEST DATE CONVERSION\n",
    "\n",
    "(covid_data\n",
    "    .assign(date = pd.to_datetime(covid_data.date_RAW, format='%m/%d/%y'))\n",
    "    .filter(['date','date_RAW','confirmed'])\n",
    "    .groupby(['date','date_RAW'])\n",
    "    .agg('sum')\n",
    "    .sort_values('date')\n",
    ")"
   ]
  },
  {
   "cell_type": "markdown",
   "metadata": {},
   "source": [
    ">The code created a new variable in the output called date.\n",
    "Then I retrieved only a few columns (date, date_RAW, confirmed) using the filter method.\n",
    "Then I grouped and aggregated the data."
   ]
  },
  {
   "cell_type": "markdown",
   "metadata": {},
   "source": [
    "Now that I tested this date conversion, I’ll run it properly and save the output so that I have my new date."
   ]
  },
  {
   "cell_type": "markdown",
   "metadata": {},
   "source": [
    "### Create a DATE Variable"
   ]
  },
  {
   "cell_type": "markdown",
   "metadata": {},
   "source": [
    "> I have createed a copy of the date, just to back it up."
   ]
  },
  {
   "cell_type": "code",
   "execution_count": 27,
   "metadata": {},
   "outputs": [],
   "source": [
    "# BACKUP\n",
    "#covid_data_backup_BEFOREDATE = covid_data.copy()\n"
   ]
  },
  {
   "cell_type": "code",
   "execution_count": 28,
   "metadata": {},
   "outputs": [],
   "source": [
    "# CONVERT DATE\n",
    "#-------------\n",
    "covid_data = covid_data.assign(\n",
    "         date = pd.to_datetime(covid_data.date_RAW, format='%m/%d/%y')\n",
    "         )"
   ]
  },
  {
   "cell_type": "markdown",
   "metadata": {},
   "source": [
    "Now, the covid_data contains a date variable that’s formatted as a proper datetime."
   ]
  },
  {
   "cell_type": "markdown",
   "metadata": {},
   "source": [
    "###  Rearange columns & sort"
   ]
  },
  {
   "cell_type": "markdown",
   "metadata": {},
   "source": [
    "I have rearranged the columns with filter, and sorted the data with sort_values."
   ]
  },
  {
   "cell_type": "code",
   "execution_count": 31,
   "metadata": {},
   "outputs": [],
   "source": [
    "# SORT & REARANGE DATA\n",
    "#=====================\n",
    "covid_data = (covid_data\n",
    "               .filter(['country', 'subregion', 'date', 'lat', 'long', 'confirmed'])\n",
    "               .sort_values(['country','subregion','lat','long','date'])\n",
    "               )"
   ]
  },
  {
   "cell_type": "code",
   "execution_count": 32,
   "metadata": {},
   "outputs": [
    {
     "name": "stdout",
     "output_type": "stream",
     "text": [
      "           country subregion       date        lat       long  confirmed\n",
      "0      Afghanistan       NaN 2020-01-22  33.939110  67.709953          0\n",
      "266    Afghanistan       NaN 2020-01-23  33.939110  67.709953          0\n",
      "532    Afghanistan       NaN 2020-01-24  33.939110  67.709953          0\n",
      "798    Afghanistan       NaN 2020-01-25  33.939110  67.709953          0\n",
      "1064   Afghanistan       NaN 2020-01-26  33.939110  67.709953          0\n",
      "...            ...       ...        ...        ...        ...        ...\n",
      "47578     Zimbabwe       NaN 2020-07-18 -19.015438  29.154857       1478\n",
      "47844     Zimbabwe       NaN 2020-07-19 -19.015438  29.154857       1611\n",
      "48110     Zimbabwe       NaN 2020-07-20 -19.015438  29.154857       1713\n",
      "48376     Zimbabwe       NaN 2020-07-21 -19.015438  29.154857       1820\n",
      "48642     Zimbabwe       NaN 2020-07-22 -19.015438  29.154857       2034\n",
      "\n",
      "[48678 rows x 6 columns]\n"
     ]
    }
   ],
   "source": [
    "print(covid_data)"
   ]
  },
  {
   "cell_type": "markdown",
   "metadata": {},
   "source": [
    "### Setting the Index"
   ]
  },
  {
   "cell_type": "markdown",
   "metadata": {},
   "source": [
    "I have set the index to ‘country‘. This was temporary to retrieve data based on country name.\n",
    "\n",
    "To set the index for the DataFrame, I have used the Pandas set_index method."
   ]
  },
  {
   "cell_type": "code",
   "execution_count": 33,
   "metadata": {},
   "outputs": [],
   "source": [
    "# SET INDEX\n",
    "covid_data.set_index('country', inplace = True)"
   ]
  },
  {
   "cell_type": "markdown",
   "metadata": {},
   "source": [
    "I want to get a list of the country names, because currently country has been used as the index.\n",
    "\n",
    "To do this, I have chained together several Pandas methods, including reset_index, filter, and drop_duplicates.\n",
    "\n",
    "Essentially, I have creayed a list of the unique values of country."
   ]
  },
  {
   "cell_type": "code",
   "execution_count": 34,
   "metadata": {},
   "outputs": [],
   "source": [
    "# GET COUNTRY NAMES bcz country is used as the index\n",
    "pd.set_option('display.max_rows', 155)"
   ]
  },
  {
   "cell_type": "code",
   "execution_count": 35,
   "metadata": {},
   "outputs": [
    {
     "data": {
      "text/html": [
       "<div>\n",
       "<style scoped>\n",
       "    .dataframe tbody tr th:only-of-type {\n",
       "        vertical-align: middle;\n",
       "    }\n",
       "\n",
       "    .dataframe tbody tr th {\n",
       "        vertical-align: top;\n",
       "    }\n",
       "\n",
       "    .dataframe thead th {\n",
       "        text-align: right;\n",
       "    }\n",
       "</style>\n",
       "<table border=\"1\" class=\"dataframe\">\n",
       "  <thead>\n",
       "    <tr style=\"text-align: right;\">\n",
       "      <th></th>\n",
       "      <th>country</th>\n",
       "    </tr>\n",
       "  </thead>\n",
       "  <tbody>\n",
       "    <tr>\n",
       "      <td>0</td>\n",
       "      <td>Afghanistan</td>\n",
       "    </tr>\n",
       "    <tr>\n",
       "      <td>183</td>\n",
       "      <td>Albania</td>\n",
       "    </tr>\n",
       "    <tr>\n",
       "      <td>366</td>\n",
       "      <td>Algeria</td>\n",
       "    </tr>\n",
       "    <tr>\n",
       "      <td>549</td>\n",
       "      <td>Andorra</td>\n",
       "    </tr>\n",
       "    <tr>\n",
       "      <td>732</td>\n",
       "      <td>Angola</td>\n",
       "    </tr>\n",
       "    <tr>\n",
       "      <td>...</td>\n",
       "      <td>...</td>\n",
       "    </tr>\n",
       "    <tr>\n",
       "      <td>47763</td>\n",
       "      <td>West Bank and Gaza</td>\n",
       "    </tr>\n",
       "    <tr>\n",
       "      <td>47946</td>\n",
       "      <td>Western Sahara</td>\n",
       "    </tr>\n",
       "    <tr>\n",
       "      <td>48129</td>\n",
       "      <td>Yemen</td>\n",
       "    </tr>\n",
       "    <tr>\n",
       "      <td>48312</td>\n",
       "      <td>Zambia</td>\n",
       "    </tr>\n",
       "    <tr>\n",
       "      <td>48495</td>\n",
       "      <td>Zimbabwe</td>\n",
       "    </tr>\n",
       "  </tbody>\n",
       "</table>\n",
       "<p>188 rows × 1 columns</p>\n",
       "</div>"
      ],
      "text/plain": [
       "                  country\n",
       "0             Afghanistan\n",
       "183               Albania\n",
       "366               Algeria\n",
       "549               Andorra\n",
       "732                Angola\n",
       "...                   ...\n",
       "47763  West Bank and Gaza\n",
       "47946      Western Sahara\n",
       "48129               Yemen\n",
       "48312              Zambia\n",
       "48495            Zimbabwe\n",
       "\n",
       "[188 rows x 1 columns]"
      ]
     },
     "execution_count": 35,
     "metadata": {},
     "output_type": "execute_result"
    }
   ],
   "source": [
    "(covid_data\n",
    "    .reset_index()\n",
    "    .filter(['country'])\n",
    "    .drop_duplicates()\n",
    "    .head(n = 200)\n",
    ")"
   ]
  },
  {
   "cell_type": "code",
   "execution_count": 37,
   "metadata": {},
   "outputs": [],
   "source": [
    "pd.reset_option('display.max_rows')"
   ]
  },
  {
   "cell_type": "code",
   "execution_count": 38,
   "metadata": {},
   "outputs": [
    {
     "data": {
      "text/html": [
       "<div>\n",
       "<style scoped>\n",
       "    .dataframe tbody tr th:only-of-type {\n",
       "        vertical-align: middle;\n",
       "    }\n",
       "\n",
       "    .dataframe tbody tr th {\n",
       "        vertical-align: top;\n",
       "    }\n",
       "\n",
       "    .dataframe thead th {\n",
       "        text-align: right;\n",
       "    }\n",
       "</style>\n",
       "<table border=\"1\" class=\"dataframe\">\n",
       "  <thead>\n",
       "    <tr style=\"text-align: right;\">\n",
       "      <th></th>\n",
       "      <th>subregion</th>\n",
       "      <th>date</th>\n",
       "      <th>lat</th>\n",
       "      <th>long</th>\n",
       "      <th>confirmed</th>\n",
       "    </tr>\n",
       "    <tr>\n",
       "      <th>country</th>\n",
       "      <th></th>\n",
       "      <th></th>\n",
       "      <th></th>\n",
       "      <th></th>\n",
       "      <th></th>\n",
       "    </tr>\n",
       "  </thead>\n",
       "  <tbody>\n",
       "    <tr>\n",
       "      <td>US</td>\n",
       "      <td>NaN</td>\n",
       "      <td>2020-01-22</td>\n",
       "      <td>40.0</td>\n",
       "      <td>-100.0</td>\n",
       "      <td>1</td>\n",
       "    </tr>\n",
       "    <tr>\n",
       "      <td>US</td>\n",
       "      <td>NaN</td>\n",
       "      <td>2020-01-23</td>\n",
       "      <td>40.0</td>\n",
       "      <td>-100.0</td>\n",
       "      <td>1</td>\n",
       "    </tr>\n",
       "    <tr>\n",
       "      <td>US</td>\n",
       "      <td>NaN</td>\n",
       "      <td>2020-01-24</td>\n",
       "      <td>40.0</td>\n",
       "      <td>-100.0</td>\n",
       "      <td>2</td>\n",
       "    </tr>\n",
       "    <tr>\n",
       "      <td>US</td>\n",
       "      <td>NaN</td>\n",
       "      <td>2020-01-25</td>\n",
       "      <td>40.0</td>\n",
       "      <td>-100.0</td>\n",
       "      <td>2</td>\n",
       "    </tr>\n",
       "    <tr>\n",
       "      <td>US</td>\n",
       "      <td>NaN</td>\n",
       "      <td>2020-01-26</td>\n",
       "      <td>40.0</td>\n",
       "      <td>-100.0</td>\n",
       "      <td>5</td>\n",
       "    </tr>\n",
       "    <tr>\n",
       "      <td>...</td>\n",
       "      <td>...</td>\n",
       "      <td>...</td>\n",
       "      <td>...</td>\n",
       "      <td>...</td>\n",
       "      <td>...</td>\n",
       "    </tr>\n",
       "    <tr>\n",
       "      <td>US</td>\n",
       "      <td>NaN</td>\n",
       "      <td>2020-07-18</td>\n",
       "      <td>40.0</td>\n",
       "      <td>-100.0</td>\n",
       "      <td>3711413</td>\n",
       "    </tr>\n",
       "    <tr>\n",
       "      <td>US</td>\n",
       "      <td>NaN</td>\n",
       "      <td>2020-07-19</td>\n",
       "      <td>40.0</td>\n",
       "      <td>-100.0</td>\n",
       "      <td>3773260</td>\n",
       "    </tr>\n",
       "    <tr>\n",
       "      <td>US</td>\n",
       "      <td>NaN</td>\n",
       "      <td>2020-07-20</td>\n",
       "      <td>40.0</td>\n",
       "      <td>-100.0</td>\n",
       "      <td>3834677</td>\n",
       "    </tr>\n",
       "    <tr>\n",
       "      <td>US</td>\n",
       "      <td>NaN</td>\n",
       "      <td>2020-07-21</td>\n",
       "      <td>40.0</td>\n",
       "      <td>-100.0</td>\n",
       "      <td>3899211</td>\n",
       "    </tr>\n",
       "    <tr>\n",
       "      <td>US</td>\n",
       "      <td>NaN</td>\n",
       "      <td>2020-07-22</td>\n",
       "      <td>40.0</td>\n",
       "      <td>-100.0</td>\n",
       "      <td>3970906</td>\n",
       "    </tr>\n",
       "  </tbody>\n",
       "</table>\n",
       "<p>183 rows × 5 columns</p>\n",
       "</div>"
      ],
      "text/plain": [
       "        subregion       date   lat   long  confirmed\n",
       "country                                             \n",
       "US            NaN 2020-01-22  40.0 -100.0          1\n",
       "US            NaN 2020-01-23  40.0 -100.0          1\n",
       "US            NaN 2020-01-24  40.0 -100.0          2\n",
       "US            NaN 2020-01-25  40.0 -100.0          2\n",
       "US            NaN 2020-01-26  40.0 -100.0          5\n",
       "...           ...        ...   ...    ...        ...\n",
       "US            NaN 2020-07-18  40.0 -100.0    3711413\n",
       "US            NaN 2020-07-19  40.0 -100.0    3773260\n",
       "US            NaN 2020-07-20  40.0 -100.0    3834677\n",
       "US            NaN 2020-07-21  40.0 -100.0    3899211\n",
       "US            NaN 2020-07-22  40.0 -100.0    3970906\n",
       "\n",
       "[183 rows x 5 columns]"
      ]
     },
     "execution_count": 38,
     "metadata": {},
     "output_type": "execute_result"
    }
   ],
   "source": [
    "# PULL DATA FOR UNITED STATES\n",
    "covid_data.loc['US']"
   ]
  }
 ],
 "metadata": {
  "kernelspec": {
   "display_name": "Python 3",
   "language": "python",
   "name": "python3"
  },
  "language_info": {
   "codemirror_mode": {
    "name": "ipython",
    "version": 3
   },
   "file_extension": ".py",
   "mimetype": "text/x-python",
   "name": "python",
   "nbconvert_exporter": "python",
   "pygments_lexer": "ipython3",
   "version": "3.7.4"
  }
 },
 "nbformat": 4,
 "nbformat_minor": 2
}
