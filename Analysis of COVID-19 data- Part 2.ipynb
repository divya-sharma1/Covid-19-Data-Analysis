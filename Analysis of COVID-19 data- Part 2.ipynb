{
 "cells": [
  {
   "cell_type": "markdown",
   "metadata": {},
   "source": [
    "### Import Packages"
   ]
  },
  {
   "cell_type": "code",
   "execution_count": 1,
   "metadata": {},
   "outputs": [],
   "source": [
    "import pandas as pd\n",
    "import numpy as np\n",
    "import datetime"
   ]
  },
  {
   "cell_type": "markdown",
   "metadata": {},
   "source": [
    "### Defining certain functions"
   ]
  },
  {
   "cell_type": "markdown",
   "metadata": {},
   "source": [
    "#### 1. To rename the columns\n",
    "I performed some clean up for the column names to make them more readable, to remove characters like “/“, and to make everything lower case.\n",
    "\n",
    "The input argument called input_data that enables to pass a DataFrame into the function.\n",
    "\n",
    "Pandas is used to0 rename method to rename the columns of the DataFrame. The output is returned using output_data."
   ]
  },
  {
   "cell_type": "code",
   "execution_count": 2,
   "metadata": {},
   "outputs": [],
   "source": [
    "def covid_rename_columns(input_data):\n",
    "    output_data = input_data.rename(\n",
    "                              columns = {'Province/State':'subregion'\n",
    "                                         ,'Country/Region':'country'\n",
    "                                         ,'Lat':'lat'\n",
    "                                         ,'Long':'long'\n",
    "                                         }\n",
    "                              )\n",
    "    return(output_data)"
   ]
  },
  {
   "cell_type": "markdown",
   "metadata": {},
   "source": [
    "#### 2. Fill missing values\n",
    "This function is created to fill in some missing values in the the subregion variable.\n",
    "This will fill in NaN values with an empty string."
   ]
  },
  {
   "cell_type": "code",
   "execution_count": 3,
   "metadata": {},
   "outputs": [],
   "source": [
    "def covid_fill_missing(input_data):\n",
    "    output_data = input_data.fillna(value = {'subregion':''})\n",
    "    return(output_data)"
   ]
  },
  {
   "cell_type": "markdown",
   "metadata": {},
   "source": [
    "#### 4. Melting the data \n",
    "It is a function to reshape the data into a “tidy” shape.\n",
    "\n",
    "The dates in the raw data exist as separate columns.I want the dates to exist as values underneath a single date column.\n",
    "\n",
    "This function will accept a DataFrame as the first argument, and a variable name (a string) as the second argument.\n",
    "\n",
    "The function reshapes the data so that the dates (which are columns in the original data) will be transposed into values. At the same time, it creates a value variable that can be nameed. "
   ]
  },
  {
   "cell_type": "code",
   "execution_count": 4,
   "metadata": {},
   "outputs": [],
   "source": [
    "def covid_melt_data(input_data, value_var_name):\n",
    "    output_data = input_data.melt(id_vars = ['country','subregion','lat','long']\n",
    "                                  ,var_name = 'date_RAW'\n",
    "                                  ,value_name = value_var_name\n",
    "                                  )\n",
    "    return(output_data)"
   ]
  },
  {
   "cell_type": "markdown",
   "metadata": {},
   "source": [
    "#### 5. Converting the dates\n",
    "The date to be in a “datetime” format. This can be done by simply using the Pandas to_datetime method to create a new field called “date“.\n",
    "\n",
    "Pandas assign method is used to create a new variable.\n",
    "\n",
    "The to_datetime function to transform date_RAW into a proper datetime.\n",
    "\n",
    "The date_RAW field is deleted by using the drop method.\n",
    "\n",
    "So in from the input data, I have taken the date_RAW field, used that to create a datetime called date, droped the original date_RAW column, and then returned the output, output_data."
   ]
  },
  {
   "cell_type": "code",
   "execution_count": 5,
   "metadata": {},
   "outputs": [],
   "source": [
    "def covid_convert_dates(input_data):\n",
    "    output_data = input_data.assign(\n",
    "         date = pd.to_datetime(input_data.date_RAW, format='%m/%d/%y')\n",
    "         )\n",
    "    output_data.drop(columns = ['date_RAW'], inplace = True)\n",
    "    return(output_data)"
   ]
  },
  {
   "cell_type": "markdown",
   "metadata": {},
   "source": [
    "#### 6. Rearrange the data\n",
    "Even after most of the data processing, the data were still a little “disordered”.\n",
    "\n",
    "I have shifted the date column form the last few columns to first few columns. \n",
    "\n",
    "Also, I have reorderred the columns such that reordering has put country, subregion, and date towards the front, among the first few columns.\n",
    "\n",
    "I sorted the rows using the sort_values to sort the rows by country, subregion, and date.\n",
    "\n",
    "The function returns a DataFrame..\n"
   ]
  },
  {
   "cell_type": "code",
   "execution_count": 6,
   "metadata": {},
   "outputs": [],
   "source": [
    "def covid_rearrange_data(input_data,value_var_name):\n",
    "    output_data = (input_data\n",
    "                   .filter(['country', 'subregion', 'date', 'lat', 'long', value_var_name])\n",
    "                   .sort_values(['country','subregion','date','lat','long'])\n",
    "                   .reset_index(drop = True)\n",
    "                   )\n",
    "    return(output_data)"
   ]
  },
  {
   "cell_type": "markdown",
   "metadata": {},
   "source": [
    "#### 7. Get and wrangle data \n",
    "I have created a function that just combines all the previous functions into a single function.\n",
    "\n",
    "The new function, covid_get_data, accepts a URL as the first argument followed by value_var_name.It is used to create different “value” variables for different covid-19 datasets.\n",
    "\n"
   ]
  },
  {
   "cell_type": "code",
   "execution_count": 7,
   "metadata": {},
   "outputs": [],
   "source": [
    "def covid_get_data(input_url, value_var_name):\n",
    "    covid_data_inprocess = pd.read_csv(input_url)\n",
    "    covid_data_inprocess = covid_rename_columns(covid_data_inprocess)\n",
    "    covid_data_inprocess = covid_fill_missing(covid_data_inprocess)\n",
    "    covid_data_inprocess = covid_melt_data(covid_data_inprocess,value_var_name)\n",
    "    covid_data_inprocess = covid_convert_dates(covid_data_inprocess)\n",
    "    covid_data_inprocess = covid_rearrange_data(covid_data_inprocess, value_var_name)\n",
    "    return(covid_data_inprocess)"
   ]
  },
  {
   "cell_type": "markdown",
   "metadata": {},
   "source": [
    "### Get Data\n",
    "I have loaded three datasets."
   ]
  },
  {
   "cell_type": "code",
   "execution_count": 8,
   "metadata": {},
   "outputs": [],
   "source": [
    "url_confirmed = 'https://raw.githubusercontent.com/CSSEGISandData/COVID-19/master/csse_covid_19_data/csse_covid_19_time_series/time_series_covid19_confirmed_global.csv'\n",
    "url_deaths = 'https://raw.githubusercontent.com/CSSEGISandData/COVID-19/master/csse_covid_19_data/csse_covid_19_time_series/time_series_covid19_deaths_global.csv'\n",
    "url_recovered = 'https://raw.githubusercontent.com/CSSEGISandData/COVID-19/master/csse_covid_19_data/csse_covid_19_time_series/time_series_covid19_recovered_global.csv'\n",
    "\n",
    "covid_confirmed = covid_get_data(url_confirmed,'confirmed')\n",
    "covid_deaths = covid_get_data(url_deaths,'dead')\n",
    "covid_recovered = covid_get_data(url_recovered,'recovered')"
   ]
  },
  {
   "cell_type": "markdown",
   "metadata": {},
   "source": [
    "### Print Data "
   ]
  },
  {
   "cell_type": "code",
   "execution_count": 9,
   "metadata": {},
   "outputs": [
    {
     "name": "stdout",
     "output_type": "stream",
     "text": [
      "           country subregion       date        lat       long  confirmed\n",
      "0      Afghanistan           2020-01-22  33.939110  67.709953          0\n",
      "1      Afghanistan           2020-01-23  33.939110  67.709953          0\n",
      "2      Afghanistan           2020-01-24  33.939110  67.709953          0\n",
      "3      Afghanistan           2020-01-25  33.939110  67.709953          0\n",
      "4      Afghanistan           2020-01-26  33.939110  67.709953          0\n",
      "...            ...       ...        ...        ...        ...        ...\n",
      "48939     Zimbabwe           2020-07-19 -19.015438  29.154857       1611\n",
      "48940     Zimbabwe           2020-07-20 -19.015438  29.154857       1713\n",
      "48941     Zimbabwe           2020-07-21 -19.015438  29.154857       1820\n",
      "48942     Zimbabwe           2020-07-22 -19.015438  29.154857       2034\n",
      "48943     Zimbabwe           2020-07-23 -19.015438  29.154857       2124\n",
      "\n",
      "[48944 rows x 6 columns]\n"
     ]
    }
   ],
   "source": [
    "print(covid_confirmed)"
   ]
  },
  {
   "cell_type": "markdown",
   "metadata": {},
   "source": [
    "The covid_confirmed contains the countries, dates, locations, and confirmed covid-19 cases.\n",
    "covid_deaths contains deaths, and covid_recovered contains recovered cases.\n"
   ]
  },
  {
   "cell_type": "markdown",
   "metadata": {},
   "source": [
    "### Get record counts "
   ]
  },
  {
   "cell_type": "code",
   "execution_count": 10,
   "metadata": {},
   "outputs": [
    {
     "data": {
      "text/plain": [
       "48944"
      ]
     },
     "execution_count": 10,
     "metadata": {},
     "output_type": "execute_result"
    }
   ],
   "source": [
    "len(covid_confirmed) "
   ]
  },
  {
   "cell_type": "code",
   "execution_count": 11,
   "metadata": {},
   "outputs": [
    {
     "data": {
      "text/plain": [
       "48944"
      ]
     },
     "execution_count": 11,
     "metadata": {},
     "output_type": "execute_result"
    }
   ],
   "source": [
    "len(covid_deaths)    "
   ]
  },
  {
   "cell_type": "code",
   "execution_count": 12,
   "metadata": {},
   "outputs": [
    {
     "data": {
      "text/plain": [
       "46552"
      ]
     },
     "execution_count": 12,
     "metadata": {},
     "output_type": "execute_result"
    }
   ],
   "source": [
    "len(covid_recovered) "
   ]
  },
  {
   "cell_type": "markdown",
   "metadata": {},
   "source": [
    "### Merge Data \n",
    "I have merged1 these 3 datasets together. I need to merge together covid_confirmed, covid_deaths, and covid_recovered.\n",
    "\n",
    "It will give a single DataFrame that contains covid-19 confirmed cases, deaths, and recoveries at the level of location-date."
   ]
  },
  {
   "cell_type": "markdown",
   "metadata": {},
   "source": [
    "#### Drop the columns which are not needed\n",
    "I have dropped some extra variables like lat and long in covid_deaths and covid_recovered."
   ]
  },
  {
   "cell_type": "code",
   "execution_count": 13,
   "metadata": {},
   "outputs": [],
   "source": [
    "covid_deaths.drop(columns = ['lat','long'], inplace = True)\n",
    "covid_recovered.drop(columns = ['lat','long'], inplace = True)"
   ]
  },
  {
   "cell_type": "code",
   "execution_count": 14,
   "metadata": {},
   "outputs": [],
   "source": [
    "covid_data = (covid_confirmed\n",
    "                .merge(covid_deaths, on = ['country','subregion','date'], how = 'left')\n",
    "                .merge(covid_recovered, on = ['country','subregion','date'], how = 'left')\n",
    "             )"
   ]
  },
  {
   "cell_type": "markdown",
   "metadata": {},
   "source": [
    "This is a “left” merge, which means that the merge process will keep all of the rows from covid_confirmed, and tack on any additional columns from covid_deaths and covid_recovered."
   ]
  },
  {
   "cell_type": "code",
   "execution_count": 15,
   "metadata": {},
   "outputs": [
    {
     "name": "stdout",
     "output_type": "stream",
     "text": [
      "           country subregion       date        lat       long  confirmed  \\\n",
      "0      Afghanistan           2020-01-22  33.939110  67.709953          0   \n",
      "1      Afghanistan           2020-01-23  33.939110  67.709953          0   \n",
      "2      Afghanistan           2020-01-24  33.939110  67.709953          0   \n",
      "3      Afghanistan           2020-01-25  33.939110  67.709953          0   \n",
      "4      Afghanistan           2020-01-26  33.939110  67.709953          0   \n",
      "...            ...       ...        ...        ...        ...        ...   \n",
      "48939     Zimbabwe           2020-07-19 -19.015438  29.154857       1611   \n",
      "48940     Zimbabwe           2020-07-20 -19.015438  29.154857       1713   \n",
      "48941     Zimbabwe           2020-07-21 -19.015438  29.154857       1820   \n",
      "48942     Zimbabwe           2020-07-22 -19.015438  29.154857       2034   \n",
      "48943     Zimbabwe           2020-07-23 -19.015438  29.154857       2124   \n",
      "\n",
      "       dead  recovered  \n",
      "0         0        0.0  \n",
      "1         0        0.0  \n",
      "2         0        0.0  \n",
      "3         0        0.0  \n",
      "4         0        0.0  \n",
      "...     ...        ...  \n",
      "48939    25      472.0  \n",
      "48940    26      472.0  \n",
      "48941    26      488.0  \n",
      "48942    26      510.0  \n",
      "48943    28      510.0  \n",
      "\n",
      "[48944 rows x 8 columns]\n"
     ]
    }
   ],
   "source": [
    "print(covid_data)"
   ]
  },
  {
   "cell_type": "markdown",
   "metadata": {},
   "source": [
    "### Calculate daily new cases"
   ]
  },
  {
   "cell_type": "code",
   "execution_count": 16,
   "metadata": {},
   "outputs": [],
   "source": [
    "new_cases_ALL = (covid_data\n",
    " .sort_values(by = ['country', 'subregion', 'date'])\n",
    " .filter(['country','subregion','date','confirmed'])\n",
    " .groupby(['country','subregion'])\n",
    " .confirmed\n",
    " .diff()\n",
    ")"
   ]
  },
  {
   "cell_type": "markdown",
   "metadata": {},
   "source": [
    "To add the new cases to the covid_data dataframe:"
   ]
  },
  {
   "cell_type": "code",
   "execution_count": 17,
   "metadata": {},
   "outputs": [],
   "source": [
    "covid_data = covid_data.assign(new_cases = new_cases_ALL)"
   ]
  },
  {
   "cell_type": "code",
   "execution_count": 18,
   "metadata": {},
   "outputs": [
    {
     "data": {
      "text/html": [
       "<div>\n",
       "<style scoped>\n",
       "    .dataframe tbody tr th:only-of-type {\n",
       "        vertical-align: middle;\n",
       "    }\n",
       "\n",
       "    .dataframe tbody tr th {\n",
       "        vertical-align: top;\n",
       "    }\n",
       "\n",
       "    .dataframe thead th {\n",
       "        text-align: right;\n",
       "    }\n",
       "</style>\n",
       "<table border=\"1\" class=\"dataframe\">\n",
       "  <thead>\n",
       "    <tr style=\"text-align: right;\">\n",
       "      <th></th>\n",
       "      <th>country</th>\n",
       "      <th>subregion</th>\n",
       "      <th>date</th>\n",
       "      <th>lat</th>\n",
       "      <th>long</th>\n",
       "      <th>confirmed</th>\n",
       "      <th>dead</th>\n",
       "      <th>recovered</th>\n",
       "      <th>new_cases</th>\n",
       "    </tr>\n",
       "  </thead>\n",
       "  <tbody>\n",
       "    <tr>\n",
       "      <td>0</td>\n",
       "      <td>Afghanistan</td>\n",
       "      <td></td>\n",
       "      <td>2020-01-22</td>\n",
       "      <td>33.93911</td>\n",
       "      <td>67.709953</td>\n",
       "      <td>0</td>\n",
       "      <td>0</td>\n",
       "      <td>0.0</td>\n",
       "      <td>NaN</td>\n",
       "    </tr>\n",
       "    <tr>\n",
       "      <td>1</td>\n",
       "      <td>Afghanistan</td>\n",
       "      <td></td>\n",
       "      <td>2020-01-23</td>\n",
       "      <td>33.93911</td>\n",
       "      <td>67.709953</td>\n",
       "      <td>0</td>\n",
       "      <td>0</td>\n",
       "      <td>0.0</td>\n",
       "      <td>0.0</td>\n",
       "    </tr>\n",
       "    <tr>\n",
       "      <td>2</td>\n",
       "      <td>Afghanistan</td>\n",
       "      <td></td>\n",
       "      <td>2020-01-24</td>\n",
       "      <td>33.93911</td>\n",
       "      <td>67.709953</td>\n",
       "      <td>0</td>\n",
       "      <td>0</td>\n",
       "      <td>0.0</td>\n",
       "      <td>0.0</td>\n",
       "    </tr>\n",
       "    <tr>\n",
       "      <td>3</td>\n",
       "      <td>Afghanistan</td>\n",
       "      <td></td>\n",
       "      <td>2020-01-25</td>\n",
       "      <td>33.93911</td>\n",
       "      <td>67.709953</td>\n",
       "      <td>0</td>\n",
       "      <td>0</td>\n",
       "      <td>0.0</td>\n",
       "      <td>0.0</td>\n",
       "    </tr>\n",
       "    <tr>\n",
       "      <td>4</td>\n",
       "      <td>Afghanistan</td>\n",
       "      <td></td>\n",
       "      <td>2020-01-26</td>\n",
       "      <td>33.93911</td>\n",
       "      <td>67.709953</td>\n",
       "      <td>0</td>\n",
       "      <td>0</td>\n",
       "      <td>0.0</td>\n",
       "      <td>0.0</td>\n",
       "    </tr>\n",
       "  </tbody>\n",
       "</table>\n",
       "</div>"
      ],
      "text/plain": [
       "       country subregion       date       lat       long  confirmed  dead  \\\n",
       "0  Afghanistan           2020-01-22  33.93911  67.709953          0     0   \n",
       "1  Afghanistan           2020-01-23  33.93911  67.709953          0     0   \n",
       "2  Afghanistan           2020-01-24  33.93911  67.709953          0     0   \n",
       "3  Afghanistan           2020-01-25  33.93911  67.709953          0     0   \n",
       "4  Afghanistan           2020-01-26  33.93911  67.709953          0     0   \n",
       "\n",
       "   recovered  new_cases  \n",
       "0        0.0        NaN  \n",
       "1        0.0        0.0  \n",
       "2        0.0        0.0  \n",
       "3        0.0        0.0  \n",
       "4        0.0        0.0  "
      ]
     },
     "execution_count": 18,
     "metadata": {},
     "output_type": "execute_result"
    }
   ],
   "source": [
    "covid_data.head()"
   ]
  },
  {
   "cell_type": "markdown",
   "metadata": {},
   "source": [
    "To check the column names "
   ]
  },
  {
   "cell_type": "code",
   "execution_count": 19,
   "metadata": {},
   "outputs": [
    {
     "data": {
      "text/plain": [
       "Index(['country', 'subregion', 'date', 'lat', 'long', 'confirmed', 'dead',\n",
       "       'recovered', 'new_cases'],\n",
       "      dtype='object')"
      ]
     },
     "execution_count": 19,
     "metadata": {},
     "output_type": "execute_result"
    }
   ],
   "source": [
    "covid_data.columns"
   ]
  },
  {
   "cell_type": "markdown",
   "metadata": {},
   "source": [
    "To check unique values for every country:"
   ]
  },
  {
   "cell_type": "code",
   "execution_count": 20,
   "metadata": {},
   "outputs": [
    {
     "data": {
      "text/html": [
       "<div>\n",
       "<style scoped>\n",
       "    .dataframe tbody tr th:only-of-type {\n",
       "        vertical-align: middle;\n",
       "    }\n",
       "\n",
       "    .dataframe tbody tr th {\n",
       "        vertical-align: top;\n",
       "    }\n",
       "\n",
       "    .dataframe thead th {\n",
       "        text-align: right;\n",
       "    }\n",
       "</style>\n",
       "<table border=\"1\" class=\"dataframe\">\n",
       "  <thead>\n",
       "    <tr style=\"text-align: right;\">\n",
       "      <th></th>\n",
       "      <th>country</th>\n",
       "    </tr>\n",
       "  </thead>\n",
       "  <tbody>\n",
       "    <tr>\n",
       "      <td>0</td>\n",
       "      <td>Afghanistan</td>\n",
       "    </tr>\n",
       "    <tr>\n",
       "      <td>184</td>\n",
       "      <td>Albania</td>\n",
       "    </tr>\n",
       "    <tr>\n",
       "      <td>368</td>\n",
       "      <td>Algeria</td>\n",
       "    </tr>\n",
       "    <tr>\n",
       "      <td>552</td>\n",
       "      <td>Andorra</td>\n",
       "    </tr>\n",
       "    <tr>\n",
       "      <td>736</td>\n",
       "      <td>Angola</td>\n",
       "    </tr>\n",
       "    <tr>\n",
       "      <td>...</td>\n",
       "      <td>...</td>\n",
       "    </tr>\n",
       "    <tr>\n",
       "      <td>48024</td>\n",
       "      <td>West Bank and Gaza</td>\n",
       "    </tr>\n",
       "    <tr>\n",
       "      <td>48208</td>\n",
       "      <td>Western Sahara</td>\n",
       "    </tr>\n",
       "    <tr>\n",
       "      <td>48392</td>\n",
       "      <td>Yemen</td>\n",
       "    </tr>\n",
       "    <tr>\n",
       "      <td>48576</td>\n",
       "      <td>Zambia</td>\n",
       "    </tr>\n",
       "    <tr>\n",
       "      <td>48760</td>\n",
       "      <td>Zimbabwe</td>\n",
       "    </tr>\n",
       "  </tbody>\n",
       "</table>\n",
       "<p>188 rows × 1 columns</p>\n",
       "</div>"
      ],
      "text/plain": [
       "                  country\n",
       "0             Afghanistan\n",
       "184               Albania\n",
       "368               Algeria\n",
       "552               Andorra\n",
       "736                Angola\n",
       "...                   ...\n",
       "48024  West Bank and Gaza\n",
       "48208      Western Sahara\n",
       "48392               Yemen\n",
       "48576              Zambia\n",
       "48760            Zimbabwe\n",
       "\n",
       "[188 rows x 1 columns]"
      ]
     },
     "execution_count": 20,
     "metadata": {},
     "output_type": "execute_result"
    }
   ],
   "source": [
    "pd.set_option('display.max_rows', 180)\n",
    "\n",
    "covid_data.filter(['country']).drop_duplicates()\n"
   ]
  },
  {
   "cell_type": "code",
   "execution_count": 21,
   "metadata": {},
   "outputs": [
    {
     "data": {
      "text/html": [
       "<div>\n",
       "<style scoped>\n",
       "    .dataframe tbody tr th:only-of-type {\n",
       "        vertical-align: middle;\n",
       "    }\n",
       "\n",
       "    .dataframe tbody tr th {\n",
       "        vertical-align: top;\n",
       "    }\n",
       "\n",
       "    .dataframe thead th {\n",
       "        text-align: right;\n",
       "    }\n",
       "</style>\n",
       "<table border=\"1\" class=\"dataframe\">\n",
       "  <thead>\n",
       "    <tr style=\"text-align: right;\">\n",
       "      <th></th>\n",
       "      <th>date</th>\n",
       "    </tr>\n",
       "  </thead>\n",
       "  <tbody>\n",
       "    <tr>\n",
       "      <td>0</td>\n",
       "      <td>2020-01-22</td>\n",
       "    </tr>\n",
       "    <tr>\n",
       "      <td>1</td>\n",
       "      <td>2020-01-23</td>\n",
       "    </tr>\n",
       "    <tr>\n",
       "      <td>2</td>\n",
       "      <td>2020-01-24</td>\n",
       "    </tr>\n",
       "    <tr>\n",
       "      <td>3</td>\n",
       "      <td>2020-01-25</td>\n",
       "    </tr>\n",
       "    <tr>\n",
       "      <td>4</td>\n",
       "      <td>2020-01-26</td>\n",
       "    </tr>\n",
       "    <tr>\n",
       "      <td>...</td>\n",
       "      <td>...</td>\n",
       "    </tr>\n",
       "    <tr>\n",
       "      <td>179</td>\n",
       "      <td>2020-07-19</td>\n",
       "    </tr>\n",
       "    <tr>\n",
       "      <td>180</td>\n",
       "      <td>2020-07-20</td>\n",
       "    </tr>\n",
       "    <tr>\n",
       "      <td>181</td>\n",
       "      <td>2020-07-21</td>\n",
       "    </tr>\n",
       "    <tr>\n",
       "      <td>182</td>\n",
       "      <td>2020-07-22</td>\n",
       "    </tr>\n",
       "    <tr>\n",
       "      <td>183</td>\n",
       "      <td>2020-07-23</td>\n",
       "    </tr>\n",
       "  </tbody>\n",
       "</table>\n",
       "<p>184 rows × 1 columns</p>\n",
       "</div>"
      ],
      "text/plain": [
       "          date\n",
       "0   2020-01-22\n",
       "1   2020-01-23\n",
       "2   2020-01-24\n",
       "3   2020-01-25\n",
       "4   2020-01-26\n",
       "..         ...\n",
       "179 2020-07-19\n",
       "180 2020-07-20\n",
       "181 2020-07-21\n",
       "182 2020-07-22\n",
       "183 2020-07-23\n",
       "\n",
       "[184 rows x 1 columns]"
      ]
     },
     "execution_count": 21,
     "metadata": {},
     "output_type": "execute_result"
    }
   ],
   "source": [
    "covid_data.filter(['date']).drop_duplicates()"
   ]
  },
  {
   "cell_type": "markdown",
   "metadata": {},
   "source": [
    "To retrieve the minimum and maximum values for both lat and long:"
   ]
  },
  {
   "cell_type": "code",
   "execution_count": 22,
   "metadata": {},
   "outputs": [
    {
     "data": {
      "text/html": [
       "<div>\n",
       "<style scoped>\n",
       "    .dataframe tbody tr th:only-of-type {\n",
       "        vertical-align: middle;\n",
       "    }\n",
       "\n",
       "    .dataframe tbody tr th {\n",
       "        vertical-align: top;\n",
       "    }\n",
       "\n",
       "    .dataframe thead th {\n",
       "        text-align: right;\n",
       "    }\n",
       "</style>\n",
       "<table border=\"1\" class=\"dataframe\">\n",
       "  <thead>\n",
       "    <tr style=\"text-align: right;\">\n",
       "      <th></th>\n",
       "      <th>long</th>\n",
       "      <th>lat</th>\n",
       "    </tr>\n",
       "  </thead>\n",
       "  <tbody>\n",
       "    <tr>\n",
       "      <td>min</td>\n",
       "      <td>-135.000</td>\n",
       "      <td>-51.7963</td>\n",
       "    </tr>\n",
       "    <tr>\n",
       "      <td>max</td>\n",
       "      <td>178.065</td>\n",
       "      <td>71.7069</td>\n",
       "    </tr>\n",
       "  </tbody>\n",
       "</table>\n",
       "</div>"
      ],
      "text/plain": [
       "        long      lat\n",
       "min -135.000 -51.7963\n",
       "max  178.065  71.7069"
      ]
     },
     "execution_count": 22,
     "metadata": {},
     "output_type": "execute_result"
    }
   ],
   "source": [
    "covid_data.filter(['long','lat']).agg(['min','max'])"
   ]
  },
  {
   "cell_type": "markdown",
   "metadata": {},
   "source": [
    "To describe numerical variables confirmed, dead, and recovered columns by summary statistics."
   ]
  },
  {
   "cell_type": "code",
   "execution_count": 23,
   "metadata": {},
   "outputs": [
    {
     "data": {
      "text/html": [
       "<div>\n",
       "<style scoped>\n",
       "    .dataframe tbody tr th:only-of-type {\n",
       "        vertical-align: middle;\n",
       "    }\n",
       "\n",
       "    .dataframe tbody tr th {\n",
       "        vertical-align: top;\n",
       "    }\n",
       "\n",
       "    .dataframe thead th {\n",
       "        text-align: right;\n",
       "    }\n",
       "</style>\n",
       "<table border=\"1\" class=\"dataframe\">\n",
       "  <thead>\n",
       "    <tr style=\"text-align: right;\">\n",
       "      <th></th>\n",
       "      <th>confirmed</th>\n",
       "      <th>dead</th>\n",
       "      <th>recovered</th>\n",
       "    </tr>\n",
       "  </thead>\n",
       "  <tbody>\n",
       "    <tr>\n",
       "      <td>count</td>\n",
       "      <td>4.894400e+04</td>\n",
       "      <td>48944.000000</td>\n",
       "      <td>4.636800e+04</td>\n",
       "    </tr>\n",
       "    <tr>\n",
       "      <td>mean</td>\n",
       "      <td>1.559492e+04</td>\n",
       "      <td>833.598868</td>\n",
       "      <td>7.589283e+03</td>\n",
       "    </tr>\n",
       "    <tr>\n",
       "      <td>std</td>\n",
       "      <td>1.184579e+05</td>\n",
       "      <td>6074.896763</td>\n",
       "      <td>5.102345e+04</td>\n",
       "    </tr>\n",
       "    <tr>\n",
       "      <td>min</td>\n",
       "      <td>0.000000e+00</td>\n",
       "      <td>0.000000</td>\n",
       "      <td>0.000000e+00</td>\n",
       "    </tr>\n",
       "    <tr>\n",
       "      <td>25%</td>\n",
       "      <td>3.000000e+00</td>\n",
       "      <td>0.000000</td>\n",
       "      <td>0.000000e+00</td>\n",
       "    </tr>\n",
       "    <tr>\n",
       "      <td>50%</td>\n",
       "      <td>1.470000e+02</td>\n",
       "      <td>2.000000</td>\n",
       "      <td>4.500000e+01</td>\n",
       "    </tr>\n",
       "    <tr>\n",
       "      <td>75%</td>\n",
       "      <td>1.355250e+03</td>\n",
       "      <td>26.000000</td>\n",
       "      <td>7.100000e+02</td>\n",
       "    </tr>\n",
       "    <tr>\n",
       "      <td>max</td>\n",
       "      <td>4.038748e+06</td>\n",
       "      <td>144304.000000</td>\n",
       "      <td>1.620313e+06</td>\n",
       "    </tr>\n",
       "  </tbody>\n",
       "</table>\n",
       "</div>"
      ],
      "text/plain": [
       "          confirmed           dead     recovered\n",
       "count  4.894400e+04   48944.000000  4.636800e+04\n",
       "mean   1.559492e+04     833.598868  7.589283e+03\n",
       "std    1.184579e+05    6074.896763  5.102345e+04\n",
       "min    0.000000e+00       0.000000  0.000000e+00\n",
       "25%    3.000000e+00       0.000000  0.000000e+00\n",
       "50%    1.470000e+02       2.000000  4.500000e+01\n",
       "75%    1.355250e+03      26.000000  7.100000e+02\n",
       "max    4.038748e+06  144304.000000  1.620313e+06"
      ]
     },
     "execution_count": 23,
     "metadata": {},
     "output_type": "execute_result"
    }
   ],
   "source": [
    "covid_data.filter(['confirmed','dead','recovered']).describe()"
   ]
  },
  {
   "cell_type": "markdown",
   "metadata": {},
   "source": [
    "To count the missing values:"
   ]
  },
  {
   "cell_type": "code",
   "execution_count": 24,
   "metadata": {},
   "outputs": [
    {
     "data": {
      "text/plain": [
       "country         0\n",
       "subregion       0\n",
       "date            0\n",
       "lat             0\n",
       "long            0\n",
       "confirmed       0\n",
       "dead            0\n",
       "recovered    2576\n",
       "new_cases     266\n",
       "dtype: int64"
      ]
     },
     "execution_count": 24,
     "metadata": {},
     "output_type": "execute_result"
    }
   ],
   "source": [
    "covid_data.isnull().sum()"
   ]
  },
  {
   "cell_type": "markdown",
   "metadata": {},
   "source": [
    "There are no missing values in any of the columns except recovered and new_cases. \n",
    " "
   ]
  },
  {
   "cell_type": "code",
   "execution_count": 25,
   "metadata": {},
   "outputs": [
    {
     "data": {
      "text/html": [
       "<div>\n",
       "<style scoped>\n",
       "    .dataframe tbody tr th:only-of-type {\n",
       "        vertical-align: middle;\n",
       "    }\n",
       "\n",
       "    .dataframe tbody tr th {\n",
       "        vertical-align: top;\n",
       "    }\n",
       "\n",
       "    .dataframe thead th {\n",
       "        text-align: right;\n",
       "    }\n",
       "</style>\n",
       "<table border=\"1\" class=\"dataframe\">\n",
       "  <thead>\n",
       "    <tr style=\"text-align: right;\">\n",
       "      <th></th>\n",
       "      <th></th>\n",
       "      <th>confirmed</th>\n",
       "      <th>dead</th>\n",
       "      <th>recovered</th>\n",
       "    </tr>\n",
       "    <tr>\n",
       "      <th>country</th>\n",
       "      <th>date</th>\n",
       "      <th></th>\n",
       "      <th></th>\n",
       "      <th></th>\n",
       "    </tr>\n",
       "  </thead>\n",
       "  <tbody>\n",
       "    <tr>\n",
       "      <td>China</td>\n",
       "      <td>2020-03-21</td>\n",
       "      <td>81305</td>\n",
       "      <td>3259</td>\n",
       "      <td>71857.0</td>\n",
       "    </tr>\n",
       "    <tr>\n",
       "      <td>France</td>\n",
       "      <td>2020-03-21</td>\n",
       "      <td>14463</td>\n",
       "      <td>563</td>\n",
       "      <td>12.0</td>\n",
       "    </tr>\n",
       "    <tr>\n",
       "      <td>Italy</td>\n",
       "      <td>2020-03-21</td>\n",
       "      <td>53578</td>\n",
       "      <td>4825</td>\n",
       "      <td>6072.0</td>\n",
       "    </tr>\n",
       "    <tr>\n",
       "      <td>US</td>\n",
       "      <td>2020-03-21</td>\n",
       "      <td>25825</td>\n",
       "      <td>456</td>\n",
       "      <td>176.0</td>\n",
       "    </tr>\n",
       "  </tbody>\n",
       "</table>\n",
       "</div>"
      ],
      "text/plain": [
       "                    confirmed  dead  recovered\n",
       "country date                                  \n",
       "China   2020-03-21      81305  3259    71857.0\n",
       "France  2020-03-21      14463   563       12.0\n",
       "Italy   2020-03-21      53578  4825     6072.0\n",
       "US      2020-03-21      25825   456      176.0"
      ]
     },
     "execution_count": 25,
     "metadata": {},
     "output_type": "execute_result"
    }
   ],
   "source": [
    "pd.set_option('display.max_rows', 300)\n",
    "(covid_data\n",
    "   .filter(['country','date','confirmed','dead','recovered'])\n",
    "   .groupby(['country','date'])\n",
    "   .agg('sum')\n",
    "   .query('date == datetime.date(2020, 3, 21)')\n",
    "   .query('country in [\"US\",\"Italy\",\"France\",\"China\"]')\n",
    ")"
   ]
  },
  {
   "cell_type": "markdown",
   "metadata": {},
   "source": [
    "The code has given us a quick summary of the confirmed, dead, and recovered for China, France, Italy, and the US"
   ]
  },
  {
   "cell_type": "markdown",
   "metadata": {},
   "source": [
    "# Data visualisation\n",
    "For the front end visualization part, I have used Seaborn. Seaborn is a data visualization package for Python."
   ]
  },
  {
   "cell_type": "code",
   "execution_count": 26,
   "metadata": {},
   "outputs": [],
   "source": [
    "import seaborn as sns\n",
    "import numpy as np"
   ]
  },
  {
   "cell_type": "markdown",
   "metadata": {},
   "source": [
    "#### To set the formatting for the charts:"
   ]
  },
  {
   "cell_type": "code",
   "execution_count": 27,
   "metadata": {},
   "outputs": [],
   "source": [
    "sns.set()"
   ]
  },
  {
   "cell_type": "code",
   "execution_count": 28,
   "metadata": {},
   "outputs": [
    {
     "data": {
      "text/plain": [
       "<matplotlib.axes._subplots.AxesSubplot at 0x2a5a6ac61c8>"
      ]
     },
     "execution_count": 28,
     "metadata": {},
     "output_type": "execute_result"
    },
    {
     "data": {
      "image/png": "[encoded data removed]",
      "text/plain": [
       "<Figure size 432x288 with 1 Axes>"
      ]
     },
     "metadata": {},
     "output_type": "display_data"
    }
   ],
   "source": [
    "sns.scatterplot(data = covid_data\n",
    "                ,x = 'confirmed'\n",
    "                ,y = 'dead'\n",
    "                )"
   ]
  },
  {
   "cell_type": "markdown",
   "metadata": {},
   "source": [
    "To create a line chart of covid-19 cases verses time, excluding China."
   ]
  },
  {
   "cell_type": "code",
   "execution_count": 29,
   "metadata": {},
   "outputs": [],
   "source": [
    "confimed_by_date_xchina = (covid_data\n",
    "                           .query('country != \"China\"')\n",
    "                           .filter(['date','confirmed'])\n",
    "                           .groupby('date')\n",
    "                           .agg('sum')\n",
    "                           .reset_index()\n",
    "                           )"
   ]
  },
  {
   "cell_type": "code",
   "execution_count": 30,
   "metadata": {},
   "outputs": [
    {
     "name": "stdout",
     "output_type": "stream",
     "text": [
      "          date  confirmed\n",
      "0   2020-01-22          7\n",
      "1   2020-01-23         11\n",
      "2   2020-01-24         21\n",
      "3   2020-01-25         28\n",
      "4   2020-01-26         43\n",
      "5   2020-01-27         50\n",
      "6   2020-01-28         69\n",
      "7   2020-01-29         79\n",
      "8   2020-01-30         93\n",
      "9   2020-01-31        125\n",
      "10  2020-02-01        147\n",
      "11  2020-02-02        157\n",
      "12  2020-02-03        171\n",
      "13  2020-02-04        191\n",
      "14  2020-02-05        203\n",
      "15  2020-02-06        215\n",
      "16  2020-02-07        285\n",
      "17  2020-02-08        315\n",
      "18  2020-02-09        330\n",
      "19  2020-02-10        414\n",
      "20  2020-02-11        424\n",
      "21  2020-02-12        469\n",
      "22  2020-02-13        486\n",
      "23  2020-02-14        550\n",
      "24  2020-02-15        637\n",
      "25  2020-02-16        721\n",
      "26  2020-02-17        835\n",
      "27  2020-02-18        940\n",
      "28  2020-02-19       1032\n",
      "29  2020-02-20       1134\n",
      "30  2020-02-21       1290\n",
      "31  2020-02-22       1600\n",
      "32  2020-02-23       1957\n",
      "33  2020-02-24       2302\n",
      "34  2020-02-25       2642\n",
      "35  2020-02-26       3207\n",
      "36  2020-02-27       4137\n",
      "37  2020-02-28       5186\n",
      "38  2020-02-29       6653\n",
      "39  2020-03-01       8454\n",
      "40  2020-03-02      10224\n",
      "41  2020-03-03      12677\n",
      "42  2020-03-04      14851\n",
      "43  2020-03-05      17491\n",
      "44  2020-03-06      21281\n",
      "45  2020-03-07      25239\n",
      "46  2020-03-08      29137\n",
      "47  2020-03-09      33000\n",
      "48  2020-03-10      37997\n",
      "49  2020-03-11      45626\n",
      "50  2020-03-12      51365\n",
      "51  2020-03-13      65759\n",
      "52  2020-03-14      76818\n",
      "53  2020-03-15      87938\n",
      "54  2020-03-16     102567\n",
      "55  2020-03-17     118386\n",
      "56  2020-03-18     137935\n",
      "57  2020-03-19     165799\n",
      "58  2020-03-20     195314\n",
      "59  2020-03-21     227537\n",
      "60  2020-03-22     260820\n",
      "61  2020-03-23     302922\n",
      "62  2020-03-24     343968\n",
      "63  2020-03-25     394715\n",
      "64  2020-03-26     457554\n",
      "65  2020-03-27     521839\n",
      "66  2020-03-28     589345\n",
      "67  2020-03-29     648799\n",
      "68  2020-03-30     713362\n",
      "69  2020-03-31     789697\n",
      "70  2020-04-01     865836\n",
      "71  2020-04-02     947166\n",
      "72  2020-04-03    1030242\n",
      "73  2020-04-04    1110585\n",
      "74  2020-04-05    1182244\n",
      "75  2020-04-06    1254853\n",
      "76  2020-04-07    1331673\n",
      "77  2020-04-08    1415357\n",
      "78  2020-04-09    1501908\n",
      "79  2020-04-10    1589508\n",
      "80  2020-04-11    1666155\n",
      "81  2020-04-12    1762817\n",
      "82  2020-04-13    1832332\n",
      "83  2020-04-14    1902166\n",
      "84  2020-04-15    1982945\n",
      "85  2020-04-16    2079610\n",
      "86  2020-04-17    2166977\n",
      "87  2020-04-18    2240478\n",
      "88  2020-04-19    2320985\n",
      "89  2020-04-20    2394312\n",
      "90  2020-04-21    2469526\n",
      "91  2020-04-22    2546317\n",
      "92  2020-04-23    2635314\n",
      "93  2020-04-24    2722239\n",
      "94  2020-04-25    2806350\n",
      "95  2020-04-26    2879294\n",
      "96  2020-04-27    2947992\n",
      "97  2020-04-28    3023269\n",
      "98  2020-04-29    3100311\n",
      "99  2020-04-30    3183980\n",
      "100 2020-05-01    3271025\n",
      "101 2020-05-02    3351612\n",
      "102 2020-05-03    3429243\n",
      "103 2020-05-04    3505318\n",
      "104 2020-05-05    3585305\n",
      "105 2020-05-06    3675325\n",
      "106 2020-05-07    3764406\n",
      "107 2020-05-08    3855922\n",
      "108 2020-05-09    3939543\n",
      "109 2020-05-10    4015769\n",
      "110 2020-05-11    4092009\n",
      "111 2020-05-12    4175601\n",
      "112 2020-05-13    4260347\n",
      "113 2020-05-14    4357447\n",
      "114 2020-05-15    4453787\n",
      "115 2020-05-16    4545594\n",
      "116 2020-05-17    4624093\n",
      "117 2020-05-18    4712368\n",
      "118 2020-05-19    4808792\n",
      "119 2020-05-20    4911820\n",
      "120 2020-05-21    5018154\n",
      "121 2020-05-22    5125036\n",
      "122 2020-05-23    5224016\n",
      "123 2020-05-24    5319331\n",
      "124 2020-05-25    5406287\n",
      "125 2020-05-26    5498808\n",
      "126 2020-05-27    5601405\n",
      "127 2020-05-28    5720719\n",
      "128 2020-05-29    5841869\n",
      "129 2020-05-30    5970729\n",
      "130 2020-05-31    6078263\n",
      "131 2020-06-01    6173451\n",
      "132 2020-06-02    6294254\n",
      "133 2020-06-03    6413643\n",
      "134 2020-06-04    6540569\n",
      "135 2020-06-05    6671426\n",
      "136 2020-06-06    6798615\n",
      "137 2020-06-07    6910869\n",
      "138 2020-06-08    7013090\n",
      "139 2020-06-09    7137429\n",
      "140 2020-06-10    7271443\n",
      "141 2020-06-11    7409550\n",
      "142 2020-06-12    7538632\n",
      "143 2020-06-13    7672911\n",
      "144 2020-06-14    7806283\n",
      "145 2020-06-15    7925878\n",
      "146 2020-06-16    8067237\n",
      "147 2020-06-17    8243333\n",
      "148 2020-06-18    8383225\n",
      "149 2020-06-19    8564031\n",
      "150 2020-06-20    8721524\n",
      "151 2020-06-21    8850044\n",
      "152 2020-06-22    8987850\n",
      "153 2020-06-23    9153159\n",
      "154 2020-06-24    9324322\n",
      "155 2020-06-25    9502181\n",
      "156 2020-06-26    9693503\n",
      "157 2020-06-27    9871595\n",
      "158 2020-06-28   10033211\n",
      "159 2020-06-29   10191760\n",
      "160 2020-06-30   10365653\n",
      "161 2020-07-01   10583311\n",
      "162 2020-07-02   10791002\n",
      "163 2020-07-03   10994488\n",
      "164 2020-07-04   11188036\n",
      "165 2020-07-05   11370717\n",
      "166 2020-07-06   11538042\n",
      "167 2020-07-07   11748858\n",
      "168 2020-07-08   11960627\n",
      "169 2020-07-09   12188812\n",
      "170 2020-07-10   12421389\n",
      "171 2020-07-11   12637638\n",
      "172 2020-07-12   12830260\n",
      "173 2020-07-13   13023039\n",
      "174 2020-07-14   13244382\n",
      "175 2020-07-15   13475481\n",
      "176 2020-07-16   13727941\n",
      "177 2020-07-17   13969905\n",
      "178 2020-07-18   14207524\n",
      "179 2020-07-19   14422086\n",
      "180 2020-07-20   14628745\n",
      "181 2020-07-21   14862114\n",
      "182 2020-07-22   15142527\n",
      "183 2020-07-23   15425112\n"
     ]
    }
   ],
   "source": [
    "print(confimed_by_date_xchina)"
   ]
  },
  {
   "cell_type": "code",
   "execution_count": 31,
   "metadata": {},
   "outputs": [
    {
     "name": "stderr",
     "output_type": "stream",
     "text": [
      "C:\\Users\\Divya Sharma\\Anaconda3\\lib\\site-packages\\pandas\\plotting\\_matplotlib\\converter.py:103: FutureWarning: Using an implicitly registered datetime converter for a matplotlib plotting method. The converter was registered by pandas on import. Future versions of pandas will require you to explicitly register matplotlib converters.\n",
      "\n",
      "To register the converters:\n",
      "\t>>> from pandas.plotting import register_matplotlib_converters\n",
      "\t>>> register_matplotlib_converters()\n",
      "  warnings.warn(msg, FutureWarning)\n"
     ]
    },
    {
     "data": {
      "text/plain": [
       "<matplotlib.axes._subplots.AxesSubplot at 0x2a5a71bc788>"
      ]
     },
     "execution_count": 31,
     "metadata": {},
     "output_type": "execute_result"
    },
    {
     "data": {
      "image/png": "[encoded data removed]",
      "text/plain": [
       "<Figure size 432x288 with 1 Axes>"
      ]
     },
     "metadata": {},
     "output_type": "display_data"
    }
   ],
   "source": [
    "sns.lineplot(data = confimed_by_date_xchina\n",
    "             ,x = 'date'\n",
    "             ,y = 'confirmed'\n",
    "             )"
   ]
  },
  {
   "cell_type": "markdown",
   "metadata": {},
   "source": [
    "It shows the rapid rise of worldwide covid19 cases."
   ]
  },
  {
   "cell_type": "markdown",
   "metadata": {},
   "source": [
    "### LINE CHART OF WORLD COVID-19 CASES OVER TIME, CHINA VS WORLD\n",
    "A line chart that shows two lines. One line for China, and another line for the rest of the world.\n",
    "\n",
    "The first step is just creating a new categorical variable called china_flg. This variable has two values.\n",
    "\n",
    "It is “China” if the country variable is China, and “Not China” otherwise. \n",
    "\n",
    "To create this variable, I have the Pandas assign method, and the Numpy where function to conditionally assign the values “China” or “Not China”, depending on the value of the country variable.\n",
    " \n",
    "This is followed by aggregation."
   ]
  },
  {
   "cell_type": "code",
   "execution_count": 32,
   "metadata": {},
   "outputs": [],
   "source": [
    "confirmed_by_date_china_xchina = (covid_data\n",
    "                           .assign(china_flg = np.where(covid_data.country == 'China', 'China', 'Not China'))\n",
    "                           .filter(['date','confirmed','china_flg'])\n",
    "                           .groupby(['date','china_flg'])\n",
    "                           .agg('sum')\n",
    "                           .reset_index()\n",
    "                           )"
   ]
  },
  {
   "cell_type": "code",
   "execution_count": 33,
   "metadata": {},
   "outputs": [
    {
     "name": "stdout",
     "output_type": "stream",
     "text": [
      "          date  china_flg  confirmed\n",
      "0   2020-01-22      China        548\n",
      "1   2020-01-22  Not China          7\n",
      "2   2020-01-23      China        643\n",
      "3   2020-01-23  Not China         11\n",
      "4   2020-01-24      China        920\n",
      "..         ...        ...        ...\n",
      "363 2020-07-21  Not China   14862114\n",
      "364 2020-07-22      China      85906\n",
      "365 2020-07-22  Not China   15142527\n",
      "366 2020-07-23      China      86045\n",
      "367 2020-07-23  Not China   15425112\n",
      "\n",
      "[368 rows x 3 columns]\n"
     ]
    }
   ],
   "source": [
    "print(confirmed_by_date_china_xchina)"
   ]
  },
  {
   "cell_type": "code",
   "execution_count": 34,
   "metadata": {},
   "outputs": [
    {
     "data": {
      "text/plain": [
       "<matplotlib.axes._subplots.AxesSubplot at 0x2a5a7028648>"
      ]
     },
     "execution_count": 34,
     "metadata": {},
     "output_type": "execute_result"
    },
    {
     "data": {
      "image/png": "[encoded data removed]",
      "text/plain": [
       "<Figure size 432x288 with 1 Axes>"
      ]
     },
     "metadata": {},
     "output_type": "display_data"
    }
   ],
   "source": [
    "sns.lineplot(data = confirmed_by_date_china_xchina\n",
    "             ,x = 'date'\n",
    "             ,y = 'confirmed'\n",
    "             ,hue = 'china_flg'\n",
    "             )"
   ]
  },
  {
   "cell_type": "markdown",
   "metadata": {},
   "source": [
    "### LINE CHART OF IMPORTANT COUNTRIES OVER TIME"
   ]
  },
  {
   "cell_type": "markdown",
   "metadata": {},
   "source": [
    "I have created a line chart that plots cases for a few countries with major outbreaks, US, China, India, Spain, and France."
   ]
  },
  {
   "cell_type": "code",
   "execution_count": 35,
   "metadata": {},
   "outputs": [],
   "source": [
    "confirmed_by_date_top_countries = (covid_data\n",
    "                           .filter(['date','country','confirmed'])\n",
    "                           .query('country in [\"US\",\"China\",\"India\",\"Spain\",\"France\"] ')\n",
    "                           .groupby(['date','country'])\n",
    "                           .agg('sum')\n",
    "                           .reset_index()\n",
    "                           )"
   ]
  },
  {
   "cell_type": "code",
   "execution_count": 36,
   "metadata": {},
   "outputs": [
    {
     "data": {
      "text/plain": [
       "<matplotlib.axes._subplots.AxesSubplot at 0x2a5a7045cc8>"
      ]
     },
     "execution_count": 36,
     "metadata": {},
     "output_type": "execute_result"
    },
    {
     "data": {
      "image/png": "[encoded data removed]",
      "text/plain": [
       "<Figure size 432x288 with 1 Axes>"
      ]
     },
     "metadata": {},
     "output_type": "display_data"
    }
   ],
   "source": [
    "sns.lineplot(data = confirmed_by_date_top_countries\n",
    "             ,x = 'date'\n",
    "             ,y = 'confirmed'\n",
    "             ,hue = 'country'\n",
    "             )"
   ]
  },
  {
   "cell_type": "markdown",
   "metadata": {},
   "source": [
    "This is done to compare the growth of covid19 cases over time for different countries."
   ]
  },
  {
   "cell_type": "markdown",
   "metadata": {},
   "source": [
    "### Bar charts\n",
    "\n",
    "I wanted to make a bar chart that shows the number of cases, by country, for the top 15 countries.\n",
    "1. Create a DataFrame with the top 15 countries with the most confirmed covid19 case, using several Pandas methods, chained together. \n",
    "2. Use Pandas query to subset down to the data.\n",
    "3. Retrive only the country and confirmed variables.\n",
    "4. Group and aggregate the data to sum up the confirmed cases by country.\n",
    "5. Sort the values in descending order using sort values, using iloc to slice the data and retrieve the top 15 rows.\n"
   ]
  },
  {
   "cell_type": "code",
   "execution_count": 37,
   "metadata": {},
   "outputs": [],
   "source": [
    "confirmed_by_country_top15 = (covid_data\n",
    "                        .query('date == datetime.date(2020, 3, 29)')\n",
    "                        .filter(['country','confirmed'])\n",
    "                        .groupby('country')\n",
    "                        .agg('sum')\n",
    "                        .sort_values('confirmed', ascending = False)\n",
    "                        .reset_index()\n",
    "                        .iloc[0:15,:]\n",
    "                        )"
   ]
  },
  {
   "cell_type": "code",
   "execution_count": 38,
   "metadata": {},
   "outputs": [
    {
     "name": "stdout",
     "output_type": "stream",
     "text": [
      "           country  confirmed\n",
      "0               US     141205\n",
      "1            Italy      97689\n",
      "2            China      82122\n",
      "3            Spain      80110\n",
      "4          Germany      62095\n",
      "5           France      40708\n",
      "6             Iran      38309\n",
      "7   United Kingdom      29954\n",
      "8      Switzerland      14829\n",
      "9      Netherlands      10930\n",
      "10         Belgium      10836\n",
      "11    Korea, South       9583\n",
      "12          Turkey       9217\n",
      "13         Austria       8788\n",
      "14          Canada       6280\n"
     ]
    }
   ],
   "source": [
    "print(confirmed_by_country_top15)"
   ]
  },
  {
   "cell_type": "code",
   "execution_count": 43,
   "metadata": {},
   "outputs": [
    {
     "data": {
      "text/plain": [
       "<matplotlib.axes._subplots.AxesSubplot at 0x2a5a75ee808>"
      ]
     },
     "execution_count": 43,
     "metadata": {},
     "output_type": "execute_result"
    },
    {
     "data": {
      "image/png": "[encoded data removed]",
      "text/plain": [
       "<Figure size 432x288 with 1 Axes>"
      ]
     },
     "metadata": {},
     "output_type": "display_data"
    }
   ],
   "source": [
    "sns.barplot(data = confirmed_by_country_top15\n",
    "            ,x = 'country'\n",
    "            ,y = 'confirmed'\n",
    "        )"
   ]
  },
  {
   "cell_type": "code",
   "execution_count": 40,
   "metadata": {},
   "outputs": [
    {
     "data": {
      "text/plain": [
       "<matplotlib.axes._subplots.AxesSubplot at 0x2a5a72afec8>"
      ]
     },
     "execution_count": 40,
     "metadata": {},
     "output_type": "execute_result"
    },
    {
     "data": {
      "image/png": "[encoded data removed]",
      "text/plain": [
       "<Figure size 432x288 with 1 Axes>"
      ]
     },
     "metadata": {},
     "output_type": "display_data"
    }
   ],
   "source": [
    "sns.barplot(data = confirmed_by_country_top15\n",
    "            ,y = 'country'\n",
    "            ,x = 'confirmed'\n",
    "            ,color = 'darkred'\n",
    "        )"
   ]
  }
 ],
 "metadata": {
  "kernelspec": {
   "display_name": "Python 3",
   "language": "python",
   "name": "python3"
  },
  "language_info": {
   "codemirror_mode": {
    "name": "ipython",
    "version": 3
   },
   "file_extension": ".py",
   "mimetype": "text/x-python",
   "name": "python",
   "nbconvert_exporter": "python",
   "pygments_lexer": "ipython3",
   "version": "3.7.4"
  }
 },
 "nbformat": 4,
 "nbformat_minor": 2
}
